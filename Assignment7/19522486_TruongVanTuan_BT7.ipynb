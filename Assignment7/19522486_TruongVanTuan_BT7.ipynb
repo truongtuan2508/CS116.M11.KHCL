{
  "nbformat": 4,
  "nbformat_minor": 0,
  "metadata": {
    "colab": {
      "name": "CS116_PCA_LR_2.ipynb",
      "provenance": []
    },
    "kernelspec": {
      "name": "python3",
      "display_name": "Python 3"
    },
    "language_info": {
      "name": "python"
    }
  },
  "cells": [
    {
      "cell_type": "code",
      "metadata": {
        "id": "jYJDIzFajJtL"
      },
      "source": [
        "import numpy as np\n",
        "import pandas as pd\n",
        "import matplotlib.pyplot as plt\n",
        "\n",
        "from sklearn.preprocessing import StandardScaler\n",
        "from sklearn.model_selection import train_test_split\n",
        "\n",
        "from sklearn.decomposition import PCA\n",
        "from sklearn.linear_model import LogisticRegression\n",
        "from sklearn import metrics\n",
        "\n",
        "from sklearn.model_selection import KFold\n",
        "from sklearn.model_selection import cross_val_score\n",
        "\n",
        "from sklearn import svm\n",
        "from sklearn.naive_bayes import GaussianNB\n",
        "from sklearn import tree\n",
        "from sklearn.ensemble import RandomForestClassifier"
      ],
      "execution_count": 1,
      "outputs": []
    },
    {
      "cell_type": "markdown",
      "metadata": {
        "id": "92BcfoeLjYdk"
      },
      "source": [
        "# Bước 1: đọc dữ liệu social network ads"
      ]
    },
    {
      "cell_type": "code",
      "metadata": {
        "colab": {
          "base_uri": "https://localhost:8080/",
          "height": 417
        },
        "id": "XIjauU02jW9e",
        "outputId": "8baf489d-91ca-467a-8631-7c16220b5fdc"
      },
      "source": [
        "data = pd.read_csv('Social_Network_Ads.csv')\n",
        "data"
      ],
      "execution_count": 2,
      "outputs": [
        {
          "output_type": "execute_result",
          "data": {
            "text/html": [
              "<div>\n",
              "<style scoped>\n",
              "    .dataframe tbody tr th:only-of-type {\n",
              "        vertical-align: middle;\n",
              "    }\n",
              "\n",
              "    .dataframe tbody tr th {\n",
              "        vertical-align: top;\n",
              "    }\n",
              "\n",
              "    .dataframe thead th {\n",
              "        text-align: right;\n",
              "    }\n",
              "</style>\n",
              "<table border=\"1\" class=\"dataframe\">\n",
              "  <thead>\n",
              "    <tr style=\"text-align: right;\">\n",
              "      <th></th>\n",
              "      <th>Age</th>\n",
              "      <th>EstimatedSalary</th>\n",
              "      <th>Purchased</th>\n",
              "    </tr>\n",
              "  </thead>\n",
              "  <tbody>\n",
              "    <tr>\n",
              "      <th>0</th>\n",
              "      <td>19</td>\n",
              "      <td>19000</td>\n",
              "      <td>0</td>\n",
              "    </tr>\n",
              "    <tr>\n",
              "      <th>1</th>\n",
              "      <td>35</td>\n",
              "      <td>20000</td>\n",
              "      <td>0</td>\n",
              "    </tr>\n",
              "    <tr>\n",
              "      <th>2</th>\n",
              "      <td>26</td>\n",
              "      <td>43000</td>\n",
              "      <td>0</td>\n",
              "    </tr>\n",
              "    <tr>\n",
              "      <th>3</th>\n",
              "      <td>27</td>\n",
              "      <td>57000</td>\n",
              "      <td>0</td>\n",
              "    </tr>\n",
              "    <tr>\n",
              "      <th>4</th>\n",
              "      <td>19</td>\n",
              "      <td>76000</td>\n",
              "      <td>0</td>\n",
              "    </tr>\n",
              "    <tr>\n",
              "      <th>...</th>\n",
              "      <td>...</td>\n",
              "      <td>...</td>\n",
              "      <td>...</td>\n",
              "    </tr>\n",
              "    <tr>\n",
              "      <th>395</th>\n",
              "      <td>46</td>\n",
              "      <td>41000</td>\n",
              "      <td>1</td>\n",
              "    </tr>\n",
              "    <tr>\n",
              "      <th>396</th>\n",
              "      <td>51</td>\n",
              "      <td>23000</td>\n",
              "      <td>1</td>\n",
              "    </tr>\n",
              "    <tr>\n",
              "      <th>397</th>\n",
              "      <td>50</td>\n",
              "      <td>20000</td>\n",
              "      <td>1</td>\n",
              "    </tr>\n",
              "    <tr>\n",
              "      <th>398</th>\n",
              "      <td>36</td>\n",
              "      <td>33000</td>\n",
              "      <td>0</td>\n",
              "    </tr>\n",
              "    <tr>\n",
              "      <th>399</th>\n",
              "      <td>49</td>\n",
              "      <td>36000</td>\n",
              "      <td>1</td>\n",
              "    </tr>\n",
              "  </tbody>\n",
              "</table>\n",
              "<p>400 rows × 3 columns</p>\n",
              "</div>"
            ],
            "text/plain": [
              "     Age  EstimatedSalary  Purchased\n",
              "0     19            19000          0\n",
              "1     35            20000          0\n",
              "2     26            43000          0\n",
              "3     27            57000          0\n",
              "4     19            76000          0\n",
              "..   ...              ...        ...\n",
              "395   46            41000          1\n",
              "396   51            23000          1\n",
              "397   50            20000          1\n",
              "398   36            33000          0\n",
              "399   49            36000          1\n",
              "\n",
              "[400 rows x 3 columns]"
            ]
          },
          "metadata": {},
          "execution_count": 2
        }
      ]
    },
    {
      "cell_type": "markdown",
      "metadata": {
        "id": "wj0ggcQXjj7J"
      },
      "source": [
        "# Bước 2: Chia ra làm 2 phần train : test với KFold Cross Validation K =5"
      ]
    },
    {
      "cell_type": "code",
      "metadata": {
        "id": "JDU1Q0DHjmho"
      },
      "source": [
        "X = data.iloc[:, :-1].values\n",
        "Y = data.iloc[:, 2].values"
      ],
      "execution_count": 3,
      "outputs": []
    },
    {
      "cell_type": "code",
      "metadata": {
        "id": "ASbjVxMRneSG"
      },
      "source": [
        "kf = KFold(n_splits = 5, random_state= None)"
      ],
      "execution_count": 4,
      "outputs": []
    },
    {
      "cell_type": "markdown",
      "metadata": {
        "id": "tuVq2oGClIkb"
      },
      "source": [
        "# Bước 3: Dùng Standard Scaler "
      ]
    },
    {
      "cell_type": "code",
      "metadata": {
        "id": "K6nTjPF0lMG9"
      },
      "source": [
        "scaler = StandardScaler()\n",
        "scaled_data = scaler.fit_transform(X)"
      ],
      "execution_count": 5,
      "outputs": []
    },
    {
      "cell_type": "markdown",
      "metadata": {
        "id": "22vRVJPXlMdq"
      },
      "source": [
        "# Bước 4: Áp dụng lần lượt một trong các classifier sau: Logistic Regression, SVM, Naive Bayes, Decision Tree, Random Forest. Tính accuracy"
      ]
    },
    {
      "cell_type": "code",
      "metadata": {
        "id": "Gx_zri75lPo2",
        "colab": {
          "base_uri": "https://localhost:8080/"
        },
        "outputId": "e78883ef-3a00-43b7-a9da-b748a806bc03"
      },
      "source": [
        "# Logistic Regression\n",
        "\n",
        "model = LogisticRegression(random_state = 0)\n",
        "model.fit(X, Y)\n",
        "\n",
        "# Accuracy\n",
        "lr_acc = cross_val_score(model, X, Y, cv = kf)\n",
        "print(\"CV SVM mean accuracy = \", lr_acc.mean())"
      ],
      "execution_count": 6,
      "outputs": [
        {
          "output_type": "stream",
          "name": "stdout",
          "text": [
            "CV SVM mean accuracy =  0.4725\n"
          ]
        }
      ]
    },
    {
      "cell_type": "code",
      "metadata": {
        "colab": {
          "base_uri": "https://localhost:8080/"
        },
        "id": "gLIyB-xTWMHz",
        "outputId": "4c032ff4-5732-4a49-a4f0-0a21456a1407"
      },
      "source": [
        "# SVM \n",
        "\n",
        "clf_SVM = svm.SVC()\n",
        "clf_SVM.fit(X, Y)\n",
        "\n",
        "# Accuracy\n",
        "svm_acc = cross_val_score(clf_SVM, X, Y, cv = kf)\n",
        "print(\"CV SVM mean accuracy = \", svm_acc.mean())"
      ],
      "execution_count": 7,
      "outputs": [
        {
          "output_type": "stream",
          "name": "stdout",
          "text": [
            "CV SVM mean accuracy =  0.7725\n"
          ]
        }
      ]
    },
    {
      "cell_type": "code",
      "metadata": {
        "colab": {
          "base_uri": "https://localhost:8080/"
        },
        "id": "U0Ved7W8WNkE",
        "outputId": "6472ad72-936c-4bb4-c75a-3e85093bb092"
      },
      "source": [
        "# Naive Bayes\n",
        "\n",
        "naiBa = GaussianNB()\n",
        "naiBa.fit(X, Y)\n",
        "\n",
        "# Accuracy\n",
        "svm_acc = cross_val_score(clf_SVM, X, Y, cv = kf)\n",
        "print(\"CV SVM mean accuracy = \", svm_acc.mean())"
      ],
      "execution_count": 8,
      "outputs": [
        {
          "output_type": "stream",
          "name": "stdout",
          "text": [
            "CV SVM mean accuracy =  0.7725\n"
          ]
        }
      ]
    },
    {
      "cell_type": "code",
      "metadata": {
        "colab": {
          "base_uri": "https://localhost:8080/"
        },
        "id": "YxA-0Ny9WPtE",
        "outputId": "87a02f5a-f239-4ecf-d3b5-fda62b52ac07"
      },
      "source": [
        "# Decision Tree\n",
        "\n",
        "deTree = tree.DecisionTreeClassifier()\n",
        "deTree.fit(X, Y)\n",
        "\n",
        "# Accuracy\n",
        "deTree_acc = cross_val_score(deTree, X, Y, cv = kf)\n",
        "print(\"CV Decision Tree mean accuracy = \", deTree_acc.mean())"
      ],
      "execution_count": 9,
      "outputs": [
        {
          "output_type": "stream",
          "name": "stdout",
          "text": [
            "CV Decision Tree mean accuracy =  0.8525\n"
          ]
        }
      ]
    },
    {
      "cell_type": "code",
      "metadata": {
        "colab": {
          "base_uri": "https://localhost:8080/"
        },
        "id": "pRAFuwxDWRRn",
        "outputId": "ec3822bc-ca6b-456e-e70a-c124eb26b1ad"
      },
      "source": [
        "# Random Forest\n",
        "\n",
        "ranForest = RandomForestClassifier(max_depth=2, random_state=0)\n",
        "ranForest.fit(X, Y)\n",
        "\n",
        "# Accuracy\n",
        "ranForest_acc = cross_val_score(ranForest, X, Y, cv = kf)\n",
        "print(\"CV Random Forest mean accuracy = \", ranForest_acc.mean())"
      ],
      "execution_count": 10,
      "outputs": [
        {
          "output_type": "stream",
          "name": "stdout",
          "text": [
            "CV Random Forest mean accuracy =  0.9125\n"
          ]
        }
      ]
    }
  ]
}