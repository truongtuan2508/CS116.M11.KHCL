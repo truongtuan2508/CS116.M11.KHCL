{
  "nbformat": 4,
  "nbformat_minor": 0,
  "metadata": {
    "colab": {
      "name": "19522143_Trương Minh Sơn_BT11.ipynb",
      "provenance": []
    },
    "kernelspec": {
      "name": "python3",
      "display_name": "Python 3"
    },
    "language_info": {
      "name": "python"
    }
  },
  "cells": [
    {
      "cell_type": "code",
      "metadata": {
        "id": "NDqQLRAYf6XS"
      },
      "source": [
        "import tensorflow as tf\n",
        "from tensorflow import keras\n",
        "\n",
        "import numpy as np\n",
        "import pandas as pd\n",
        "import matplotlib.pyplot as plt\n",
        "\n",
        "from sklearn import preprocessing\n",
        "from sklearn.preprocessing import StandardScaler\n",
        "from sklearn.model_selection import train_test_split\n",
        "from sklearn.model_selection import GridSearchCV\n",
        "from sklearn import svm\n",
        "from sklearn.metrics import classification_report, confusion_matrix"
      ],
      "execution_count": null,
      "outputs": []
    },
    {
      "cell_type": "code",
      "metadata": {
        "colab": {
          "base_uri": "https://localhost:8080/"
        },
        "id": "HcZDLBYnhUF_",
        "outputId": "c495397f-9f94-49c5-cadd-099fac24bc36"
      },
      "source": [
        "!gdown --id 1xIuSYMrd3oBZb5U28VbV-oqT5DQd-HtW"
      ],
      "execution_count": null,
      "outputs": [
        {
          "output_type": "stream",
          "name": "stdout",
          "text": [
            "Downloading...\n",
            "From: https://drive.google.com/uc?id=1xIuSYMrd3oBZb5U28VbV-oqT5DQd-HtW\n",
            "To: /content/Social_Network_Ads.csv\n",
            "\r  0% 0.00/4.91k [00:00<?, ?B/s]\r100% 4.91k/4.91k [00:00<00:00, 12.7MB/s]\n"
          ]
        }
      ]
    },
    {
      "cell_type": "code",
      "metadata": {
        "colab": {
          "base_uri": "https://localhost:8080/",
          "height": 419
        },
        "id": "6UxfuStDhztB",
        "outputId": "44220b4e-15e9-41c3-b0f3-435773da8db5"
      },
      "source": [
        "data =  pd.read_csv('Social_Network_Ads.csv')\n",
        "data"
      ],
      "execution_count": null,
      "outputs": [
        {
          "output_type": "execute_result",
          "data": {
            "text/html": [
              "<div>\n",
              "<style scoped>\n",
              "    .dataframe tbody tr th:only-of-type {\n",
              "        vertical-align: middle;\n",
              "    }\n",
              "\n",
              "    .dataframe tbody tr th {\n",
              "        vertical-align: top;\n",
              "    }\n",
              "\n",
              "    .dataframe thead th {\n",
              "        text-align: right;\n",
              "    }\n",
              "</style>\n",
              "<table border=\"1\" class=\"dataframe\">\n",
              "  <thead>\n",
              "    <tr style=\"text-align: right;\">\n",
              "      <th></th>\n",
              "      <th>Age</th>\n",
              "      <th>EstimatedSalary</th>\n",
              "      <th>Purchased</th>\n",
              "    </tr>\n",
              "  </thead>\n",
              "  <tbody>\n",
              "    <tr>\n",
              "      <th>0</th>\n",
              "      <td>19</td>\n",
              "      <td>19000</td>\n",
              "      <td>0</td>\n",
              "    </tr>\n",
              "    <tr>\n",
              "      <th>1</th>\n",
              "      <td>35</td>\n",
              "      <td>20000</td>\n",
              "      <td>0</td>\n",
              "    </tr>\n",
              "    <tr>\n",
              "      <th>2</th>\n",
              "      <td>26</td>\n",
              "      <td>43000</td>\n",
              "      <td>0</td>\n",
              "    </tr>\n",
              "    <tr>\n",
              "      <th>3</th>\n",
              "      <td>27</td>\n",
              "      <td>57000</td>\n",
              "      <td>0</td>\n",
              "    </tr>\n",
              "    <tr>\n",
              "      <th>4</th>\n",
              "      <td>19</td>\n",
              "      <td>76000</td>\n",
              "      <td>0</td>\n",
              "    </tr>\n",
              "    <tr>\n",
              "      <th>...</th>\n",
              "      <td>...</td>\n",
              "      <td>...</td>\n",
              "      <td>...</td>\n",
              "    </tr>\n",
              "    <tr>\n",
              "      <th>395</th>\n",
              "      <td>46</td>\n",
              "      <td>41000</td>\n",
              "      <td>1</td>\n",
              "    </tr>\n",
              "    <tr>\n",
              "      <th>396</th>\n",
              "      <td>51</td>\n",
              "      <td>23000</td>\n",
              "      <td>1</td>\n",
              "    </tr>\n",
              "    <tr>\n",
              "      <th>397</th>\n",
              "      <td>50</td>\n",
              "      <td>20000</td>\n",
              "      <td>1</td>\n",
              "    </tr>\n",
              "    <tr>\n",
              "      <th>398</th>\n",
              "      <td>36</td>\n",
              "      <td>33000</td>\n",
              "      <td>0</td>\n",
              "    </tr>\n",
              "    <tr>\n",
              "      <th>399</th>\n",
              "      <td>49</td>\n",
              "      <td>36000</td>\n",
              "      <td>1</td>\n",
              "    </tr>\n",
              "  </tbody>\n",
              "</table>\n",
              "<p>400 rows × 3 columns</p>\n",
              "</div>"
            ],
            "text/plain": [
              "     Age  EstimatedSalary  Purchased\n",
              "0     19            19000          0\n",
              "1     35            20000          0\n",
              "2     26            43000          0\n",
              "3     27            57000          0\n",
              "4     19            76000          0\n",
              "..   ...              ...        ...\n",
              "395   46            41000          1\n",
              "396   51            23000          1\n",
              "397   50            20000          1\n",
              "398   36            33000          0\n",
              "399   49            36000          1\n",
              "\n",
              "[400 rows x 3 columns]"
            ]
          },
          "metadata": {},
          "execution_count": 12
        }
      ]
    },
    {
      "cell_type": "code",
      "metadata": {
        "id": "hf52Lw1Wo0u6"
      },
      "source": [
        "X = data.iloc[:, :-1].values\n",
        "Y = data.iloc[:, 2].values"
      ],
      "execution_count": null,
      "outputs": []
    },
    {
      "cell_type": "markdown",
      "metadata": {
        "id": "3NfxVa3agNU5"
      },
      "source": [
        "# Áp dụng Grid Search cho CNN và SVM"
      ]
    },
    {
      "cell_type": "markdown",
      "metadata": {
        "id": "HJr3etqLioCa"
      },
      "source": [
        "## B0: SVM có những siêu tham số nào? Miền giá trị của từng tham số.\n",
        "\n",
        "## Có 3 siêu tham số:\n",
        "## - Tham số C: float, default=1.0\n",
        "\n",
        "## - gamma: {‘scale’, ‘auto’} or float, default=’scale’\n",
        "\n",
        "## - kernel: {‘linear’, ‘poly’, ‘rbf’, ‘sigmoid’, ‘precomputed’}, default=’rbf’"
      ]
    },
    {
      "cell_type": "markdown",
      "metadata": {
        "id": "21l7M043iOMX"
      },
      "source": [
        "## B1: Chia dataset: \n",
        "## train : val : test = 6 : 2 : 2"
      ]
    },
    {
      "cell_type": "code",
      "metadata": {
        "id": "asU_pkd-iNw7"
      },
      "source": [
        "X_train, X_test, Y_train, Y_test = train_test_split(X, Y, test_size=0.2,random_state=0)   # 8 : 2\n",
        "\n",
        "X_train, X_val, Y_train, Y_val = train_test_split(X_train, Y_train, test_size=0.25, random_state=1)   # 0.25 x 0.8 = 0.2"
      ],
      "execution_count": null,
      "outputs": []
    },
    {
      "cell_type": "markdown",
      "metadata": {
        "id": "7QYYoScGpDS3"
      },
      "source": [
        "## B2: Chuẩn hoá, one-hot encoding"
      ]
    },
    {
      "cell_type": "code",
      "metadata": {
        "id": "g_vT3xl4pkyo"
      },
      "source": [
        "scaler = StandardScaler()\n",
        "\n",
        "X_train = scaler.fit_transform(X_train)"
      ],
      "execution_count": null,
      "outputs": []
    },
    {
      "cell_type": "markdown",
      "metadata": {
        "id": "RIpp6adfh5sb"
      },
      "source": [
        "## SVM"
      ]
    },
    {
      "cell_type": "code",
      "metadata": {
        "colab": {
          "base_uri": "https://localhost:8080/"
        },
        "id": "izzBPSCah7VX",
        "outputId": "8e12b6d9-155f-4dc1-ce48-1d37c08b91da"
      },
      "source": [
        "# SVM \n",
        "\n",
        "model = svm.SVC()\n",
        "model.fit(X_train, Y_train)\n",
        "\n",
        "pre = model.predict(X_val)\n",
        "print(classification_report(Y_val, pre))"
      ],
      "execution_count": null,
      "outputs": [
        {
          "output_type": "stream",
          "name": "stdout",
          "text": [
            "              precision    recall  f1-score   support\n",
            "\n",
            "           0       0.00      0.00      0.00        51\n",
            "           1       0.36      1.00      0.53        29\n",
            "\n",
            "    accuracy                           0.36        80\n",
            "   macro avg       0.18      0.50      0.27        80\n",
            "weighted avg       0.13      0.36      0.19        80\n",
            "\n"
          ]
        },
        {
          "output_type": "stream",
          "name": "stderr",
          "text": [
            "/usr/local/lib/python3.7/dist-packages/sklearn/metrics/_classification.py:1308: UndefinedMetricWarning: Precision and F-score are ill-defined and being set to 0.0 in labels with no predicted samples. Use `zero_division` parameter to control this behavior.\n",
            "  _warn_prf(average, modifier, msg_start, len(result))\n",
            "/usr/local/lib/python3.7/dist-packages/sklearn/metrics/_classification.py:1308: UndefinedMetricWarning: Precision and F-score are ill-defined and being set to 0.0 in labels with no predicted samples. Use `zero_division` parameter to control this behavior.\n",
            "  _warn_prf(average, modifier, msg_start, len(result))\n",
            "/usr/local/lib/python3.7/dist-packages/sklearn/metrics/_classification.py:1308: UndefinedMetricWarning: Precision and F-score are ill-defined and being set to 0.0 in labels with no predicted samples. Use `zero_division` parameter to control this behavior.\n",
            "  _warn_prf(average, modifier, msg_start, len(result))\n"
          ]
        }
      ]
    },
    {
      "cell_type": "code",
      "metadata": {
        "colab": {
          "base_uri": "https://localhost:8080/"
        },
        "id": "TDu06EH8r8c1",
        "outputId": "e7d77591-b1bf-4b5e-c7de-69c099102204"
      },
      "source": [
        "C_star = -1\n",
        "gamma_star = -1\n",
        "kernel_star = ''\n",
        "score = -1\n",
        "\n",
        "for i in range(5): # for C\n",
        "    for j in range(10): # for gamma\n",
        "        for _kernel in ['linear', 'poly', 'rbf', 'sigmoid']: # for kernal\n",
        "            _C = 2**i\n",
        "            _gamma = 2**(-j)\n",
        "            model = svm.SVC(C=_C, kernel=_kernel, gamma=_gamma)\n",
        "            model.fit(X_train, Y_train)\n",
        "            new_score = model.score(X_val, Y_val)\n",
        "            print('C = {}; gamma = {}; kernel = {}; score = {}; new_score = {}'.format(_C, _gamma, _kernel, score, new_score))\n",
        "            if new_score > score:\n",
        "                C_star = _C\n",
        "                gamma_star = _gamma\n",
        "                kernal_star = _kernel\n",
        "                score = new_score"
      ],
      "execution_count": null,
      "outputs": [
        {
          "output_type": "stream",
          "name": "stdout",
          "text": [
            "C = 1; gamma = 1; kernel = linear; score = -1; new_score = 0.3625\n",
            "C = 1; gamma = 1; kernel = poly; score = 0.3625; new_score = 0.3625\n",
            "C = 1; gamma = 1; kernel = rbf; score = 0.3625; new_score = 0.3625\n",
            "C = 1; gamma = 1; kernel = sigmoid; score = 0.3625; new_score = 0.6375\n",
            "C = 1; gamma = 0.5; kernel = linear; score = 0.6375; new_score = 0.3625\n",
            "C = 1; gamma = 0.5; kernel = poly; score = 0.6375; new_score = 0.3625\n",
            "C = 1; gamma = 0.5; kernel = rbf; score = 0.6375; new_score = 0.3625\n",
            "C = 1; gamma = 0.5; kernel = sigmoid; score = 0.6375; new_score = 0.6375\n",
            "C = 1; gamma = 0.25; kernel = linear; score = 0.6375; new_score = 0.3625\n",
            "C = 1; gamma = 0.25; kernel = poly; score = 0.6375; new_score = 0.3625\n",
            "C = 1; gamma = 0.25; kernel = rbf; score = 0.6375; new_score = 0.3625\n",
            "C = 1; gamma = 0.25; kernel = sigmoid; score = 0.6375; new_score = 0.6375\n",
            "C = 1; gamma = 0.125; kernel = linear; score = 0.6375; new_score = 0.3625\n",
            "C = 1; gamma = 0.125; kernel = poly; score = 0.6375; new_score = 0.3625\n",
            "C = 1; gamma = 0.125; kernel = rbf; score = 0.6375; new_score = 0.3625\n",
            "C = 1; gamma = 0.125; kernel = sigmoid; score = 0.6375; new_score = 0.6375\n",
            "C = 1; gamma = 0.0625; kernel = linear; score = 0.6375; new_score = 0.3625\n",
            "C = 1; gamma = 0.0625; kernel = poly; score = 0.6375; new_score = 0.3625\n",
            "C = 1; gamma = 0.0625; kernel = rbf; score = 0.6375; new_score = 0.3625\n",
            "C = 1; gamma = 0.0625; kernel = sigmoid; score = 0.6375; new_score = 0.3625\n",
            "C = 1; gamma = 0.03125; kernel = linear; score = 0.6375; new_score = 0.3625\n",
            "C = 1; gamma = 0.03125; kernel = poly; score = 0.6375; new_score = 0.3625\n",
            "C = 1; gamma = 0.03125; kernel = rbf; score = 0.6375; new_score = 0.3625\n",
            "C = 1; gamma = 0.03125; kernel = sigmoid; score = 0.6375; new_score = 0.3625\n",
            "C = 1; gamma = 0.015625; kernel = linear; score = 0.6375; new_score = 0.3625\n",
            "C = 1; gamma = 0.015625; kernel = poly; score = 0.6375; new_score = 0.3625\n",
            "C = 1; gamma = 0.015625; kernel = rbf; score = 0.6375; new_score = 0.3625\n",
            "C = 1; gamma = 0.015625; kernel = sigmoid; score = 0.6375; new_score = 0.3625\n",
            "C = 1; gamma = 0.0078125; kernel = linear; score = 0.6375; new_score = 0.3625\n",
            "C = 1; gamma = 0.0078125; kernel = poly; score = 0.6375; new_score = 0.3625\n",
            "C = 1; gamma = 0.0078125; kernel = rbf; score = 0.6375; new_score = 0.3625\n",
            "C = 1; gamma = 0.0078125; kernel = sigmoid; score = 0.6375; new_score = 0.3625\n",
            "C = 1; gamma = 0.00390625; kernel = linear; score = 0.6375; new_score = 0.3625\n",
            "C = 1; gamma = 0.00390625; kernel = poly; score = 0.6375; new_score = 0.3625\n",
            "C = 1; gamma = 0.00390625; kernel = rbf; score = 0.6375; new_score = 0.3625\n",
            "C = 1; gamma = 0.00390625; kernel = sigmoid; score = 0.6375; new_score = 0.3625\n",
            "C = 1; gamma = 0.001953125; kernel = linear; score = 0.6375; new_score = 0.3625\n",
            "C = 1; gamma = 0.001953125; kernel = poly; score = 0.6375; new_score = 0.3625\n",
            "C = 1; gamma = 0.001953125; kernel = rbf; score = 0.6375; new_score = 0.6375\n",
            "C = 1; gamma = 0.001953125; kernel = sigmoid; score = 0.6375; new_score = 0.3625\n",
            "C = 2; gamma = 1; kernel = linear; score = 0.6375; new_score = 0.3625\n",
            "C = 2; gamma = 1; kernel = poly; score = 0.6375; new_score = 0.3625\n",
            "C = 2; gamma = 1; kernel = rbf; score = 0.6375; new_score = 0.3625\n",
            "C = 2; gamma = 1; kernel = sigmoid; score = 0.6375; new_score = 0.6375\n",
            "C = 2; gamma = 0.5; kernel = linear; score = 0.6375; new_score = 0.3625\n",
            "C = 2; gamma = 0.5; kernel = poly; score = 0.6375; new_score = 0.3625\n",
            "C = 2; gamma = 0.5; kernel = rbf; score = 0.6375; new_score = 0.3625\n",
            "C = 2; gamma = 0.5; kernel = sigmoid; score = 0.6375; new_score = 0.6375\n",
            "C = 2; gamma = 0.25; kernel = linear; score = 0.6375; new_score = 0.3625\n",
            "C = 2; gamma = 0.25; kernel = poly; score = 0.6375; new_score = 0.3625\n",
            "C = 2; gamma = 0.25; kernel = rbf; score = 0.6375; new_score = 0.3625\n",
            "C = 2; gamma = 0.25; kernel = sigmoid; score = 0.6375; new_score = 0.6375\n",
            "C = 2; gamma = 0.125; kernel = linear; score = 0.6375; new_score = 0.3625\n",
            "C = 2; gamma = 0.125; kernel = poly; score = 0.6375; new_score = 0.3625\n",
            "C = 2; gamma = 0.125; kernel = rbf; score = 0.6375; new_score = 0.3625\n",
            "C = 2; gamma = 0.125; kernel = sigmoid; score = 0.6375; new_score = 0.6375\n",
            "C = 2; gamma = 0.0625; kernel = linear; score = 0.6375; new_score = 0.3625\n",
            "C = 2; gamma = 0.0625; kernel = poly; score = 0.6375; new_score = 0.3625\n",
            "C = 2; gamma = 0.0625; kernel = rbf; score = 0.6375; new_score = 0.3625\n",
            "C = 2; gamma = 0.0625; kernel = sigmoid; score = 0.6375; new_score = 0.6375\n",
            "C = 2; gamma = 0.03125; kernel = linear; score = 0.6375; new_score = 0.3625\n",
            "C = 2; gamma = 0.03125; kernel = poly; score = 0.6375; new_score = 0.3625\n",
            "C = 2; gamma = 0.03125; kernel = rbf; score = 0.6375; new_score = 0.3625\n",
            "C = 2; gamma = 0.03125; kernel = sigmoid; score = 0.6375; new_score = 0.3625\n",
            "C = 2; gamma = 0.015625; kernel = linear; score = 0.6375; new_score = 0.3625\n",
            "C = 2; gamma = 0.015625; kernel = poly; score = 0.6375; new_score = 0.3625\n",
            "C = 2; gamma = 0.015625; kernel = rbf; score = 0.6375; new_score = 0.3625\n",
            "C = 2; gamma = 0.015625; kernel = sigmoid; score = 0.6375; new_score = 0.3625\n",
            "C = 2; gamma = 0.0078125; kernel = linear; score = 0.6375; new_score = 0.3625\n",
            "C = 2; gamma = 0.0078125; kernel = poly; score = 0.6375; new_score = 0.3625\n",
            "C = 2; gamma = 0.0078125; kernel = rbf; score = 0.6375; new_score = 0.3625\n",
            "C = 2; gamma = 0.0078125; kernel = sigmoid; score = 0.6375; new_score = 0.3625\n",
            "C = 2; gamma = 0.00390625; kernel = linear; score = 0.6375; new_score = 0.3625\n",
            "C = 2; gamma = 0.00390625; kernel = poly; score = 0.6375; new_score = 0.3625\n",
            "C = 2; gamma = 0.00390625; kernel = rbf; score = 0.6375; new_score = 0.3625\n",
            "C = 2; gamma = 0.00390625; kernel = sigmoid; score = 0.6375; new_score = 0.3625\n",
            "C = 2; gamma = 0.001953125; kernel = linear; score = 0.6375; new_score = 0.3625\n",
            "C = 2; gamma = 0.001953125; kernel = poly; score = 0.6375; new_score = 0.3625\n",
            "C = 2; gamma = 0.001953125; kernel = rbf; score = 0.6375; new_score = 0.3625\n",
            "C = 2; gamma = 0.001953125; kernel = sigmoid; score = 0.6375; new_score = 0.3625\n",
            "C = 4; gamma = 1; kernel = linear; score = 0.6375; new_score = 0.3625\n",
            "C = 4; gamma = 1; kernel = poly; score = 0.6375; new_score = 0.3625\n",
            "C = 4; gamma = 1; kernel = rbf; score = 0.6375; new_score = 0.3625\n",
            "C = 4; gamma = 1; kernel = sigmoid; score = 0.6375; new_score = 0.6375\n",
            "C = 4; gamma = 0.5; kernel = linear; score = 0.6375; new_score = 0.3625\n",
            "C = 4; gamma = 0.5; kernel = poly; score = 0.6375; new_score = 0.3625\n",
            "C = 4; gamma = 0.5; kernel = rbf; score = 0.6375; new_score = 0.3625\n",
            "C = 4; gamma = 0.5; kernel = sigmoid; score = 0.6375; new_score = 0.6375\n",
            "C = 4; gamma = 0.25; kernel = linear; score = 0.6375; new_score = 0.3625\n",
            "C = 4; gamma = 0.25; kernel = poly; score = 0.6375; new_score = 0.3625\n",
            "C = 4; gamma = 0.25; kernel = rbf; score = 0.6375; new_score = 0.3625\n",
            "C = 4; gamma = 0.25; kernel = sigmoid; score = 0.6375; new_score = 0.6375\n",
            "C = 4; gamma = 0.125; kernel = linear; score = 0.6375; new_score = 0.3625\n",
            "C = 4; gamma = 0.125; kernel = poly; score = 0.6375; new_score = 0.3625\n",
            "C = 4; gamma = 0.125; kernel = rbf; score = 0.6375; new_score = 0.3625\n",
            "C = 4; gamma = 0.125; kernel = sigmoid; score = 0.6375; new_score = 0.6375\n",
            "C = 4; gamma = 0.0625; kernel = linear; score = 0.6375; new_score = 0.3625\n",
            "C = 4; gamma = 0.0625; kernel = poly; score = 0.6375; new_score = 0.3625\n",
            "C = 4; gamma = 0.0625; kernel = rbf; score = 0.6375; new_score = 0.3625\n",
            "C = 4; gamma = 0.0625; kernel = sigmoid; score = 0.6375; new_score = 0.6375\n",
            "C = 4; gamma = 0.03125; kernel = linear; score = 0.6375; new_score = 0.3625\n",
            "C = 4; gamma = 0.03125; kernel = poly; score = 0.6375; new_score = 0.3625\n",
            "C = 4; gamma = 0.03125; kernel = rbf; score = 0.6375; new_score = 0.3625\n",
            "C = 4; gamma = 0.03125; kernel = sigmoid; score = 0.6375; new_score = 0.6375\n",
            "C = 4; gamma = 0.015625; kernel = linear; score = 0.6375; new_score = 0.3625\n",
            "C = 4; gamma = 0.015625; kernel = poly; score = 0.6375; new_score = 0.3625\n",
            "C = 4; gamma = 0.015625; kernel = rbf; score = 0.6375; new_score = 0.3625\n",
            "C = 4; gamma = 0.015625; kernel = sigmoid; score = 0.6375; new_score = 0.3625\n",
            "C = 4; gamma = 0.0078125; kernel = linear; score = 0.6375; new_score = 0.3625\n",
            "C = 4; gamma = 0.0078125; kernel = poly; score = 0.6375; new_score = 0.3625\n",
            "C = 4; gamma = 0.0078125; kernel = rbf; score = 0.6375; new_score = 0.3625\n",
            "C = 4; gamma = 0.0078125; kernel = sigmoid; score = 0.6375; new_score = 0.3625\n",
            "C = 4; gamma = 0.00390625; kernel = linear; score = 0.6375; new_score = 0.3625\n",
            "C = 4; gamma = 0.00390625; kernel = poly; score = 0.6375; new_score = 0.3625\n",
            "C = 4; gamma = 0.00390625; kernel = rbf; score = 0.6375; new_score = 0.3625\n",
            "C = 4; gamma = 0.00390625; kernel = sigmoid; score = 0.6375; new_score = 0.3625\n",
            "C = 4; gamma = 0.001953125; kernel = linear; score = 0.6375; new_score = 0.3625\n",
            "C = 4; gamma = 0.001953125; kernel = poly; score = 0.6375; new_score = 0.3625\n",
            "C = 4; gamma = 0.001953125; kernel = rbf; score = 0.6375; new_score = 0.3625\n",
            "C = 4; gamma = 0.001953125; kernel = sigmoid; score = 0.6375; new_score = 0.3625\n",
            "C = 8; gamma = 1; kernel = linear; score = 0.6375; new_score = 0.3625\n",
            "C = 8; gamma = 1; kernel = poly; score = 0.6375; new_score = 0.3625\n",
            "C = 8; gamma = 1; kernel = rbf; score = 0.6375; new_score = 0.3625\n",
            "C = 8; gamma = 1; kernel = sigmoid; score = 0.6375; new_score = 0.6375\n",
            "C = 8; gamma = 0.5; kernel = linear; score = 0.6375; new_score = 0.3625\n",
            "C = 8; gamma = 0.5; kernel = poly; score = 0.6375; new_score = 0.3625\n",
            "C = 8; gamma = 0.5; kernel = rbf; score = 0.6375; new_score = 0.3625\n",
            "C = 8; gamma = 0.5; kernel = sigmoid; score = 0.6375; new_score = 0.6375\n",
            "C = 8; gamma = 0.25; kernel = linear; score = 0.6375; new_score = 0.3625\n",
            "C = 8; gamma = 0.25; kernel = poly; score = 0.6375; new_score = 0.3625\n",
            "C = 8; gamma = 0.25; kernel = rbf; score = 0.6375; new_score = 0.3625\n",
            "C = 8; gamma = 0.25; kernel = sigmoid; score = 0.6375; new_score = 0.6375\n",
            "C = 8; gamma = 0.125; kernel = linear; score = 0.6375; new_score = 0.3625\n",
            "C = 8; gamma = 0.125; kernel = poly; score = 0.6375; new_score = 0.3625\n",
            "C = 8; gamma = 0.125; kernel = rbf; score = 0.6375; new_score = 0.3625\n",
            "C = 8; gamma = 0.125; kernel = sigmoid; score = 0.6375; new_score = 0.6375\n",
            "C = 8; gamma = 0.0625; kernel = linear; score = 0.6375; new_score = 0.3625\n",
            "C = 8; gamma = 0.0625; kernel = poly; score = 0.6375; new_score = 0.3625\n",
            "C = 8; gamma = 0.0625; kernel = rbf; score = 0.6375; new_score = 0.3625\n",
            "C = 8; gamma = 0.0625; kernel = sigmoid; score = 0.6375; new_score = 0.6375\n",
            "C = 8; gamma = 0.03125; kernel = linear; score = 0.6375; new_score = 0.3625\n",
            "C = 8; gamma = 0.03125; kernel = poly; score = 0.6375; new_score = 0.3625\n",
            "C = 8; gamma = 0.03125; kernel = rbf; score = 0.6375; new_score = 0.3625\n",
            "C = 8; gamma = 0.03125; kernel = sigmoid; score = 0.6375; new_score = 0.6375\n",
            "C = 8; gamma = 0.015625; kernel = linear; score = 0.6375; new_score = 0.3625\n",
            "C = 8; gamma = 0.015625; kernel = poly; score = 0.6375; new_score = 0.3625\n",
            "C = 8; gamma = 0.015625; kernel = rbf; score = 0.6375; new_score = 0.3625\n",
            "C = 8; gamma = 0.015625; kernel = sigmoid; score = 0.6375; new_score = 0.6375\n",
            "C = 8; gamma = 0.0078125; kernel = linear; score = 0.6375; new_score = 0.3625\n",
            "C = 8; gamma = 0.0078125; kernel = poly; score = 0.6375; new_score = 0.3625\n",
            "C = 8; gamma = 0.0078125; kernel = rbf; score = 0.6375; new_score = 0.3625\n",
            "C = 8; gamma = 0.0078125; kernel = sigmoid; score = 0.6375; new_score = 0.3625\n",
            "C = 8; gamma = 0.00390625; kernel = linear; score = 0.6375; new_score = 0.3625\n",
            "C = 8; gamma = 0.00390625; kernel = poly; score = 0.6375; new_score = 0.3625\n",
            "C = 8; gamma = 0.00390625; kernel = rbf; score = 0.6375; new_score = 0.3625\n",
            "C = 8; gamma = 0.00390625; kernel = sigmoid; score = 0.6375; new_score = 0.3625\n",
            "C = 8; gamma = 0.001953125; kernel = linear; score = 0.6375; new_score = 0.3625\n",
            "C = 8; gamma = 0.001953125; kernel = poly; score = 0.6375; new_score = 0.3625\n",
            "C = 8; gamma = 0.001953125; kernel = rbf; score = 0.6375; new_score = 0.3625\n",
            "C = 8; gamma = 0.001953125; kernel = sigmoid; score = 0.6375; new_score = 0.3625\n",
            "C = 16; gamma = 1; kernel = linear; score = 0.6375; new_score = 0.3625\n",
            "C = 16; gamma = 1; kernel = poly; score = 0.6375; new_score = 0.3625\n",
            "C = 16; gamma = 1; kernel = rbf; score = 0.6375; new_score = 0.3625\n",
            "C = 16; gamma = 1; kernel = sigmoid; score = 0.6375; new_score = 0.6375\n",
            "C = 16; gamma = 0.5; kernel = linear; score = 0.6375; new_score = 0.3625\n",
            "C = 16; gamma = 0.5; kernel = poly; score = 0.6375; new_score = 0.3625\n",
            "C = 16; gamma = 0.5; kernel = rbf; score = 0.6375; new_score = 0.3625\n",
            "C = 16; gamma = 0.5; kernel = sigmoid; score = 0.6375; new_score = 0.6375\n",
            "C = 16; gamma = 0.25; kernel = linear; score = 0.6375; new_score = 0.3625\n",
            "C = 16; gamma = 0.25; kernel = poly; score = 0.6375; new_score = 0.3625\n",
            "C = 16; gamma = 0.25; kernel = rbf; score = 0.6375; new_score = 0.3625\n",
            "C = 16; gamma = 0.25; kernel = sigmoid; score = 0.6375; new_score = 0.6375\n",
            "C = 16; gamma = 0.125; kernel = linear; score = 0.6375; new_score = 0.3625\n",
            "C = 16; gamma = 0.125; kernel = poly; score = 0.6375; new_score = 0.3625\n",
            "C = 16; gamma = 0.125; kernel = rbf; score = 0.6375; new_score = 0.3625\n",
            "C = 16; gamma = 0.125; kernel = sigmoid; score = 0.6375; new_score = 0.6375\n",
            "C = 16; gamma = 0.0625; kernel = linear; score = 0.6375; new_score = 0.3625\n",
            "C = 16; gamma = 0.0625; kernel = poly; score = 0.6375; new_score = 0.3625\n",
            "C = 16; gamma = 0.0625; kernel = rbf; score = 0.6375; new_score = 0.3625\n",
            "C = 16; gamma = 0.0625; kernel = sigmoid; score = 0.6375; new_score = 0.6375\n",
            "C = 16; gamma = 0.03125; kernel = linear; score = 0.6375; new_score = 0.3625\n",
            "C = 16; gamma = 0.03125; kernel = poly; score = 0.6375; new_score = 0.3625\n",
            "C = 16; gamma = 0.03125; kernel = rbf; score = 0.6375; new_score = 0.3625\n",
            "C = 16; gamma = 0.03125; kernel = sigmoid; score = 0.6375; new_score = 0.6375\n",
            "C = 16; gamma = 0.015625; kernel = linear; score = 0.6375; new_score = 0.3625\n",
            "C = 16; gamma = 0.015625; kernel = poly; score = 0.6375; new_score = 0.3625\n",
            "C = 16; gamma = 0.015625; kernel = rbf; score = 0.6375; new_score = 0.3625\n",
            "C = 16; gamma = 0.015625; kernel = sigmoid; score = 0.6375; new_score = 0.6375\n",
            "C = 16; gamma = 0.0078125; kernel = linear; score = 0.6375; new_score = 0.3625\n",
            "C = 16; gamma = 0.0078125; kernel = poly; score = 0.6375; new_score = 0.3625\n",
            "C = 16; gamma = 0.0078125; kernel = rbf; score = 0.6375; new_score = 0.3625\n",
            "C = 16; gamma = 0.0078125; kernel = sigmoid; score = 0.6375; new_score = 0.6375\n",
            "C = 16; gamma = 0.00390625; kernel = linear; score = 0.6375; new_score = 0.3625\n",
            "C = 16; gamma = 0.00390625; kernel = poly; score = 0.6375; new_score = 0.3625\n",
            "C = 16; gamma = 0.00390625; kernel = rbf; score = 0.6375; new_score = 0.3625\n",
            "C = 16; gamma = 0.00390625; kernel = sigmoid; score = 0.6375; new_score = 0.3625\n",
            "C = 16; gamma = 0.001953125; kernel = linear; score = 0.6375; new_score = 0.3625\n",
            "C = 16; gamma = 0.001953125; kernel = poly; score = 0.6375; new_score = 0.3625\n",
            "C = 16; gamma = 0.001953125; kernel = rbf; score = 0.6375; new_score = 0.3625\n",
            "C = 16; gamma = 0.001953125; kernel = sigmoid; score = 0.6375; new_score = 0.3625\n"
          ]
        }
      ]
    },
    {
      "cell_type": "code",
      "metadata": {
        "colab": {
          "base_uri": "https://localhost:8080/"
        },
        "id": "LKEM8jXh4jYh",
        "outputId": "ef01cc75-4367-42f4-bd70-363f2eb6ebf5"
      },
      "source": [
        "print(\"C* = \", C_star)\n",
        "print(\"Kernal* = \", kernal_star)\n",
        "print(\"gamma* = \", gamma_star)\n",
        "print(\"Score on valid set: \", score)"
      ],
      "execution_count": null,
      "outputs": [
        {
          "output_type": "stream",
          "name": "stdout",
          "text": [
            "C* =  1\n",
            "Kernal* =  sigmoid\n",
            "gamma* =  1\n",
            "Score on valid set:  0.6375\n"
          ]
        }
      ]
    },
    {
      "cell_type": "markdown",
      "metadata": {
        "id": "5eiqIzYB537K"
      },
      "source": [
        "## B4: Tính Accuracy của test"
      ]
    },
    {
      "cell_type": "code",
      "metadata": {
        "colab": {
          "base_uri": "https://localhost:8080/"
        },
        "id": "JMmHgNbovbx6",
        "outputId": "ad4debf2-9306-4f47-a801-0a004bb4b4c1"
      },
      "source": [
        "model_2 = svm.SVC(C=C_star, kernel=kernal_star, gamma=gamma_star)\n",
        "model_2.fit(X_train, Y_train)\n",
        "\n",
        "print(\"Accuracy on test set: \",model_2.score(X_test, Y_test))"
      ],
      "execution_count": null,
      "outputs": [
        {
          "output_type": "stream",
          "name": "stdout",
          "text": [
            "Accuracy on test set:  0.725\n"
          ]
        }
      ]
    }
  ]
}