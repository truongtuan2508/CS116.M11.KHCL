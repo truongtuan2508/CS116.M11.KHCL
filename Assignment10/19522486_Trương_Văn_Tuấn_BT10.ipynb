{
  "nbformat": 4,
  "nbformat_minor": 0,
  "metadata": {
    "colab": {
      "name": "19522486_Trương_Văn_Tuấn_BT10.ipynb",
      "provenance": [],
      "collapsed_sections": [],
      "toc_visible": true
    },
    "kernelspec": {
      "name": "python3",
      "display_name": "Python 3"
    },
    "language_info": {
      "name": "python"
    }
  },
  "cells": [
    {
      "cell_type": "code",
      "metadata": {
        "id": "weYsFQakrjle"
      },
      "source": [
        "import tensorflow as tf\n",
        "from tensorflow import keras"
      ],
      "execution_count": 1,
      "outputs": []
    },
    {
      "cell_type": "code",
      "metadata": {
        "id": "Ithi0uXyoP4r"
      },
      "source": [
        "from keras.layers import Input, Dense, Conv2D, MaxPooling2D, Flatten, AveragePooling2D, Add\n",
        "from keras.models import load_model, Model"
      ],
      "execution_count": 2,
      "outputs": []
    },
    {
      "cell_type": "code",
      "metadata": {
        "id": "CvxXxc6Tr4MM"
      },
      "source": [
        "class CNN:\n",
        "  # Constructor\n",
        "  def _init_(self):\n",
        "    self.model = None\n",
        "\n",
        "  # Define structure of the CNN\n",
        "  def build(self, input_dim):\n",
        "    input = Input(shape=input_dim)\n",
        "\n",
        "    C1 = Conv2D(6, (3, 3), padding='same', activation='sigmoid')(input)\n",
        "    S2 = MaxPooling2D(pool_size=(2, 2), padding='same')(C1)\n",
        "    C3 = Conv2D(16, (3, 3), padding='same', activation='sigmoid')(S2)\n",
        "    S4 = MaxPooling2D(pool_size=(2, 2), padding='same')(C3)\n",
        "\n",
        "    flat = Flatten()(S4)\n",
        "    F5 = Dense(120, activation='sigmoid', use_bias=True)(flat)\n",
        "    F6 = Dense(84, activation='sigmoid', use_bias=True)(F5)\n",
        "    \n",
        "    output = Dense(10, activation='softmax', use_bias=True)(F6)\n",
        "\n",
        "    self.model = Model(input, output)\n",
        "    self.model.compile(optimizer=\"adam\", loss = 'categorical_crossentropy')\n",
        "\n",
        "  # Train the model\n",
        "  def train(self, x_train, y_train, x_val, y_val):\n",
        "    self.model.fit(x_train, y_train, validation_data = (x_val, y_val), epochs = 50, batch_size = 128)\n",
        "\n",
        "  # Load model from file\n",
        "  def load(self, model_file):\n",
        "    self.model = load_model(model_file)\n",
        "\n",
        "  # Save the trained model\n",
        "  def save(self, model_file):\n",
        "    self.model.save(model_file)\n",
        "\n",
        "  # Show the architecture og the model\n",
        "  def summary(self):\n",
        "    self.model.summary()\n",
        "\n",
        "  # Test the model with a given input\n",
        "  def predict(self, x_test):\n",
        "    return self.model.predict(x_test)"
      ],
      "execution_count": 3,
      "outputs": []
    },
    {
      "cell_type": "code",
      "metadata": {
        "id": "pnwn30in0yU6"
      },
      "source": [
        "class DeltaCNN:\n",
        "  # Constructor\n",
        "  def _init_(self):\n",
        "    self.model = None\n",
        "\n",
        "  # Define structure of the CNN\n",
        "  def build(self, input_dim):\n",
        "    input = Input(shape=input_dim)\n",
        "\n",
        "    C1 = Conv2D(8, (3, 3), padding='same', activation=None)(input)\n",
        "    S2 = MaxPooling2D(pool_size=(2, 2), strides = (2, 2), padding='same')(C1)\n",
        "    C3 = Conv2D(8, (3, 3), padding='same', activation='relu')(S2)\n",
        "    C4 = Conv2D(8, (3, 3), padding='same', activation='relu')(C3)\n",
        "\n",
        "    add1 = Add()([S2, C4])\n",
        "    \n",
        "    C5 = Conv2D(16, (3, 3), padding='same', activation='sigmoid', strides = (2, 2))(add1)\n",
        "    C6 = Conv2D(16, (3, 3), padding='same', activation='relu')(C5)\n",
        "    C7 = Conv2D(16, (3, 3), padding='same', activation='relu')(C6)\n",
        "\n",
        "    add2 = Add()([C5, C7])\n",
        "\n",
        "    S8 = AveragePooling2D(pool_size=(2, 2), padding='same')(add2)\n",
        "\n",
        "    flat = Flatten()(S8)\n",
        "    F9 = Dense(400, activation='sigmoid', use_bias=True)(flat)\n",
        "\n",
        "    output = Dense(10, activation='softmax', use_bias=True)(F9)\n",
        "\n",
        "    self.model = Model(input, output)\n",
        "    self.model.compile(optimizer=\"adam\", loss = 'categorical_crossentropy')\n",
        "\n",
        "  # Train the model\n",
        "  def train(self, x_train, y_train, x_val, y_val):\n",
        "    self.model.fit(x_train, y_train, validation_data = (x_val, y_val), epochs = 50, batch_size = 128)\n",
        "\n",
        "  # Load model from file\n",
        "  def load(self, model_file):\n",
        "    self.model = load_model(model_file)\n",
        "\n",
        "  # Save the trained model\n",
        "  def save(self, model_file):\n",
        "    self.model.save(model_file)\n",
        "\n",
        "  # Show the architecture og the model\n",
        "  def summary(self):\n",
        "    self.model.summary()\n",
        "\n",
        "  # Test the model with a given input\n",
        "  def predict(self, x_test):\n",
        "    return self.model.predict(x_test)"
      ],
      "execution_count": 4,
      "outputs": []
    },
    {
      "cell_type": "code",
      "metadata": {
        "id": "1BMzIaS7uXc4",
        "colab": {
          "base_uri": "https://localhost:8080/"
        },
        "outputId": "05fe47c4-e943-4205-e126-38f5291e69c9"
      },
      "source": [
        "from keras.datasets import mnist\n",
        "\n",
        "(x_train, y_train), (x_test, y_test) = mnist.load_data()"
      ],
      "execution_count": 5,
      "outputs": [
        {
          "output_type": "stream",
          "name": "stdout",
          "text": [
            "Downloading data from https://storage.googleapis.com/tensorflow/tf-keras-datasets/mnist.npz\n",
            "11493376/11490434 [==============================] - 0s 0us/step\n",
            "11501568/11490434 [==============================] - 0s 0us/step\n"
          ]
        }
      ]
    },
    {
      "cell_type": "code",
      "metadata": {
        "id": "rSa0M9SZxNEd"
      },
      "source": [
        "import numpy as np\n",
        "\n",
        "def onehot(y):\n",
        "  oh = np.zeros((y.shape[0], 10))\n",
        "  for i in range(y.shape[0]):\n",
        "    oh[i, int(y[i])] = 1\n",
        "  \n",
        "  return oh"
      ],
      "execution_count": 6,
      "outputs": []
    },
    {
      "cell_type": "code",
      "metadata": {
        "id": "uIs-yUZmxzk_"
      },
      "source": [
        "from sklearn import preprocessing\n",
        "\n",
        "y_train_oh = onehot(y_train)\n",
        "y_train_oh.shape\n",
        "\n",
        "y_test_oh = onehot(y_test)\n",
        "y_test_oh.shape\n",
        "\n",
        "x_train_norm = x_train / 255\n",
        "x_test_norm = x_test / 255\n",
        "\n",
        "x_train_norm = x_train_norm[:, :, :, np.newaxis]\n",
        "x_test_norm = x_test_norm[:, :, :, np.newaxis]"
      ],
      "execution_count": 7,
      "outputs": []
    },
    {
      "cell_type": "code",
      "metadata": {
        "colab": {
          "base_uri": "https://localhost:8080/"
        },
        "id": "CGAPhhZNy80y",
        "outputId": "e9490767-9883-4edc-de4f-8683a58d9b17"
      },
      "source": [
        "cnm = DeltaCNN()\n",
        "cnm.build((28, 28, 1))\n",
        "cnm.summary()"
      ],
      "execution_count": 8,
      "outputs": [
        {
          "output_type": "stream",
          "name": "stdout",
          "text": [
            "Model: \"model\"\n",
            "__________________________________________________________________________________________________\n",
            " Layer (type)                   Output Shape         Param #     Connected to                     \n",
            "==================================================================================================\n",
            " input_1 (InputLayer)           [(None, 28, 28, 1)]  0           []                               \n",
            "                                                                                                  \n",
            " conv2d (Conv2D)                (None, 28, 28, 8)    80          ['input_1[0][0]']                \n",
            "                                                                                                  \n",
            " max_pooling2d (MaxPooling2D)   (None, 14, 14, 8)    0           ['conv2d[0][0]']                 \n",
            "                                                                                                  \n",
            " conv2d_1 (Conv2D)              (None, 14, 14, 8)    584         ['max_pooling2d[0][0]']          \n",
            "                                                                                                  \n",
            " conv2d_2 (Conv2D)              (None, 14, 14, 8)    584         ['conv2d_1[0][0]']               \n",
            "                                                                                                  \n",
            " add (Add)                      (None, 14, 14, 8)    0           ['max_pooling2d[0][0]',          \n",
            "                                                                  'conv2d_2[0][0]']               \n",
            "                                                                                                  \n",
            " conv2d_3 (Conv2D)              (None, 7, 7, 16)     1168        ['add[0][0]']                    \n",
            "                                                                                                  \n",
            " conv2d_4 (Conv2D)              (None, 7, 7, 16)     2320        ['conv2d_3[0][0]']               \n",
            "                                                                                                  \n",
            " conv2d_5 (Conv2D)              (None, 7, 7, 16)     2320        ['conv2d_4[0][0]']               \n",
            "                                                                                                  \n",
            " add_1 (Add)                    (None, 7, 7, 16)     0           ['conv2d_3[0][0]',               \n",
            "                                                                  'conv2d_5[0][0]']               \n",
            "                                                                                                  \n",
            " average_pooling2d (AveragePool  (None, 4, 4, 16)    0           ['add_1[0][0]']                  \n",
            " ing2D)                                                                                           \n",
            "                                                                                                  \n",
            " flatten (Flatten)              (None, 256)          0           ['average_pooling2d[0][0]']      \n",
            "                                                                                                  \n",
            " dense (Dense)                  (None, 400)          102800      ['flatten[0][0]']                \n",
            "                                                                                                  \n",
            " dense_1 (Dense)                (None, 10)           4010        ['dense[0][0]']                  \n",
            "                                                                                                  \n",
            "==================================================================================================\n",
            "Total params: 113,866\n",
            "Trainable params: 113,866\n",
            "Non-trainable params: 0\n",
            "__________________________________________________________________________________________________\n"
          ]
        }
      ]
    },
    {
      "cell_type": "code",
      "metadata": {
        "id": "aauLkvGYV2wS",
        "colab": {
          "base_uri": "https://localhost:8080/"
        },
        "outputId": "95f77436-6ec0-428b-a1fe-b0f6d88c379f"
      },
      "source": [
        "cnm.train(x_train, y_train_oh, x_test, y_test_oh)"
      ],
      "execution_count": 9,
      "outputs": [
        {
          "output_type": "stream",
          "name": "stdout",
          "text": [
            "Epoch 1/50\n",
            "469/469 [==============================] - 35s 73ms/step - loss: 0.4574 - val_loss: 0.1411\n",
            "Epoch 2/50\n",
            "469/469 [==============================] - 34s 73ms/step - loss: 0.1392 - val_loss: 0.1186\n",
            "Epoch 3/50\n",
            "469/469 [==============================] - 35s 74ms/step - loss: 0.1050 - val_loss: 0.0904\n",
            "Epoch 4/50\n",
            "469/469 [==============================] - 35s 75ms/step - loss: 0.0857 - val_loss: 0.0843\n",
            "Epoch 5/50\n",
            "469/469 [==============================] - 37s 78ms/step - loss: 0.0725 - val_loss: 0.0678\n",
            "Epoch 6/50\n",
            "469/469 [==============================] - 35s 75ms/step - loss: 0.0687 - val_loss: 0.0684\n",
            "Epoch 7/50\n",
            "469/469 [==============================] - 35s 74ms/step - loss: 0.0638 - val_loss: 0.0587\n",
            "Epoch 8/50\n",
            "469/469 [==============================] - 35s 74ms/step - loss: 0.0566 - val_loss: 0.0644\n",
            "Epoch 9/50\n",
            "469/469 [==============================] - 35s 74ms/step - loss: 0.0487 - val_loss: 0.0491\n",
            "Epoch 10/50\n",
            "469/469 [==============================] - 35s 74ms/step - loss: 0.0454 - val_loss: 0.0455\n",
            "Epoch 11/50\n",
            "469/469 [==============================] - 35s 74ms/step - loss: 0.0442 - val_loss: 0.0406\n",
            "Epoch 12/50\n",
            "469/469 [==============================] - 35s 75ms/step - loss: 0.0418 - val_loss: 0.0573\n",
            "Epoch 13/50\n",
            "469/469 [==============================] - 35s 75ms/step - loss: 0.0403 - val_loss: 0.0377\n",
            "Epoch 14/50\n",
            "469/469 [==============================] - 36s 76ms/step - loss: 0.0347 - val_loss: 0.0456\n",
            "Epoch 15/50\n",
            "469/469 [==============================] - 35s 75ms/step - loss: 0.0352 - val_loss: 0.0449\n",
            "Epoch 16/50\n",
            "469/469 [==============================] - 35s 74ms/step - loss: 0.0310 - val_loss: 0.0412\n",
            "Epoch 17/50\n",
            "469/469 [==============================] - 35s 75ms/step - loss: 0.0325 - val_loss: 0.0446\n",
            "Epoch 18/50\n",
            "469/469 [==============================] - 36s 76ms/step - loss: 0.0273 - val_loss: 0.0450\n",
            "Epoch 19/50\n",
            "469/469 [==============================] - 36s 76ms/step - loss: 0.0298 - val_loss: 0.0408\n",
            "Epoch 20/50\n",
            "469/469 [==============================] - 36s 76ms/step - loss: 0.0256 - val_loss: 0.0409\n",
            "Epoch 21/50\n",
            "469/469 [==============================] - 35s 76ms/step - loss: 0.0250 - val_loss: 0.0444\n",
            "Epoch 22/50\n",
            "469/469 [==============================] - 36s 77ms/step - loss: 0.0239 - val_loss: 0.0397\n",
            "Epoch 23/50\n",
            "469/469 [==============================] - 36s 77ms/step - loss: 0.0234 - val_loss: 0.0353\n",
            "Epoch 24/50\n",
            "469/469 [==============================] - 36s 76ms/step - loss: 0.0248 - val_loss: 0.0376\n",
            "Epoch 25/50\n",
            "469/469 [==============================] - 37s 78ms/step - loss: 0.0239 - val_loss: 0.0368\n",
            "Epoch 26/50\n",
            "469/469 [==============================] - 37s 79ms/step - loss: 0.0235 - val_loss: 0.0375\n",
            "Epoch 27/50\n",
            "469/469 [==============================] - 36s 77ms/step - loss: 0.0202 - val_loss: 0.0406\n",
            "Epoch 28/50\n",
            "469/469 [==============================] - 36s 76ms/step - loss: 0.0215 - val_loss: 0.0379\n",
            "Epoch 29/50\n",
            "469/469 [==============================] - 37s 79ms/step - loss: 0.0175 - val_loss: 0.0492\n",
            "Epoch 30/50\n",
            "469/469 [==============================] - 37s 79ms/step - loss: 0.0174 - val_loss: 0.0384\n",
            "Epoch 31/50\n",
            "469/469 [==============================] - 37s 79ms/step - loss: 0.0157 - val_loss: 0.0450\n",
            "Epoch 32/50\n",
            "469/469 [==============================] - 38s 80ms/step - loss: 0.0139 - val_loss: 0.0367\n",
            "Epoch 33/50\n",
            "469/469 [==============================] - 38s 80ms/step - loss: 0.0125 - val_loss: 0.0439\n",
            "Epoch 34/50\n",
            "469/469 [==============================] - 37s 78ms/step - loss: 0.0140 - val_loss: 0.0395\n",
            "Epoch 35/50\n",
            "469/469 [==============================] - 37s 79ms/step - loss: 0.0162 - val_loss: 0.0499\n",
            "Epoch 36/50\n",
            "469/469 [==============================] - 38s 80ms/step - loss: 0.0162 - val_loss: 0.0444\n",
            "Epoch 37/50\n",
            "469/469 [==============================] - 37s 79ms/step - loss: 0.0138 - val_loss: 0.0364\n",
            "Epoch 38/50\n",
            "469/469 [==============================] - 37s 79ms/step - loss: 0.0140 - val_loss: 0.0358\n",
            "Epoch 39/50\n",
            "469/469 [==============================] - 37s 79ms/step - loss: 0.0145 - val_loss: 0.0398\n",
            "Epoch 40/50\n",
            "469/469 [==============================] - 37s 80ms/step - loss: 0.0147 - val_loss: 0.0473\n",
            "Epoch 41/50\n",
            "469/469 [==============================] - 37s 79ms/step - loss: 0.0143 - val_loss: 0.0406\n",
            "Epoch 42/50\n",
            "469/469 [==============================] - 37s 79ms/step - loss: 0.0104 - val_loss: 0.0349\n",
            "Epoch 43/50\n",
            "469/469 [==============================] - 37s 79ms/step - loss: 0.0114 - val_loss: 0.0389\n",
            "Epoch 44/50\n",
            "469/469 [==============================] - 37s 79ms/step - loss: 0.0125 - val_loss: 0.0435\n",
            "Epoch 45/50\n",
            "469/469 [==============================] - 37s 79ms/step - loss: 0.0126 - val_loss: 0.0437\n",
            "Epoch 46/50\n",
            "469/469 [==============================] - 37s 79ms/step - loss: 0.0148 - val_loss: 0.0341\n",
            "Epoch 47/50\n",
            "469/469 [==============================] - 37s 80ms/step - loss: 0.0142 - val_loss: 0.0324\n",
            "Epoch 48/50\n",
            "469/469 [==============================] - 38s 80ms/step - loss: 0.0106 - val_loss: 0.0349\n",
            "Epoch 49/50\n",
            "469/469 [==============================] - 38s 80ms/step - loss: 0.0112 - val_loss: 0.0428\n",
            "Epoch 50/50\n",
            "469/469 [==============================] - 37s 79ms/step - loss: 0.0112 - val_loss: 0.0378\n"
          ]
        }
      ]
    }
  ]
}